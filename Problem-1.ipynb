{
 "cells": [
  {
   "cell_type": "code",
   "execution_count": 11,
   "id": "5d5b7c6f",
   "metadata": {},
   "outputs": [
    {
     "name": "stdout",
     "output_type": "stream",
     "text": [
      "enter the first number: 89\n",
      "enter second number 98.7\n",
      "enter the operation (add/subtract/multiply/divide): multiply\n",
      "Result: 8784.300000000001\n"
     ]
    }
   ],
   "source": [
    "class Calculator:                                   # Here i use Python code , and class is blueprint of object. we are using the class for reusability\n",
    "    def _init_(self):                               # here i use __init__ to initialize the object when it is created\n",
    "        pass                                         \n",
    " \n",
    "    add = lambda self, a, b: a + b                  # lamdba to show a code in single line\n",
    "    subtract = lambda self, a, b: a - b\n",
    "    multiply = lambda self, a, b: a * b\n",
    "    divide = lambda self, a, b: a / b if b != 0 else \"Zero Division Error\"\n",
    "\n",
    "calculator = Calculator()\n",
    "\n",
    "a = float(input(\"enter the first number: \"))       # In python we represent the double type as float type\n",
    "b = float(input(\"enter second number \"))\n",
    "operation = input(\"enter the operation (add/subtract/multiply/divide): \") # we can perform any operation which we want\n",
    "\n",
    "if operation == \"add\":\n",
    "    result = calculator.add(a, b)\n",
    "elif operation == \"subtract\":\n",
    "    result = calculator.subtract(a, b)\n",
    "elif operation == \"multiply\":\n",
    "    result = calculator.multiply(a, b)\n",
    "elif operation == \"divide\":\n",
    "    result = calculator.divide(a, b)\n",
    "else:\n",
    "    result = \"Error: wrong operation.\"\n",
    "\n",
    "print(\"Result:\", result)                         # Used to print the final result"
   ]
  },
  {
   "cell_type": "code",
   "execution_count": null,
   "id": "ff1622aa",
   "metadata": {},
   "outputs": [],
   "source": []
  },
  {
   "cell_type": "code",
   "execution_count": null,
   "id": "26b89949",
   "metadata": {},
   "outputs": [],
   "source": []
  }
 ],
 "metadata": {
  "kernelspec": {
   "display_name": "Python 3 (ipykernel)",
   "language": "python",
   "name": "python3"
  },
  "language_info": {
   "codemirror_mode": {
    "name": "ipython",
    "version": 3
   },
   "file_extension": ".py",
   "mimetype": "text/x-python",
   "name": "python",
   "nbconvert_exporter": "python",
   "pygments_lexer": "ipython3",
   "version": "3.9.12"
  }
 },
 "nbformat": 4,
 "nbformat_minor": 5
}
