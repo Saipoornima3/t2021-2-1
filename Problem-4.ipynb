{
 "cells": [
  {
   "cell_type": "code",
   "execution_count": 16,
   "id": "c97a68e3",
   "metadata": {},
   "outputs": [
    {
     "name": "stdout",
     "output_type": "stream",
     "text": [
      "{1: 11, 2: 8, 3: 4, 4: 4, 5: 3, 6: 2, 7: 0, 8: 1, 9: 1}\n"
     ]
    }
   ],
   "source": [
    "def count_multiples(numbers):                         # to find how many times the numbers are mutlipled by mutliples\n",
    "    multiples = [1, 2, 3, 4, 5, 6, 7, 8, 9]\n",
    "    counts = {multiple: sum(1 for number in numbers if number % multiple == 0) for multiple in multiples}\n",
    "    return counts\n",
    "\n",
    "numbers = [1, 2, 8, 9, 12, 46, 76, 82, 15, 20, 30]\n",
    "result = count_multiples(numbers)\n",
    "\n",
    "print(result)"
   ]
  },
  {
   "cell_type": "code",
   "execution_count": null,
   "id": "9e7f8735",
   "metadata": {},
   "outputs": [],
   "source": []
  },
  {
   "cell_type": "code",
   "execution_count": null,
   "id": "672c9081",
   "metadata": {},
   "outputs": [],
   "source": []
  }
 ],
 "metadata": {
  "kernelspec": {
   "display_name": "Python 3 (ipykernel)",
   "language": "python",
   "name": "python3"
  },
  "language_info": {
   "codemirror_mode": {
    "name": "ipython",
    "version": 3
   },
   "file_extension": ".py",
   "mimetype": "text/x-python",
   "name": "python",
   "nbconvert_exporter": "python",
   "pygments_lexer": "ipython3",
   "version": "3.9.12"
  }
 },
 "nbformat": 4,
 "nbformat_minor": 5
}
