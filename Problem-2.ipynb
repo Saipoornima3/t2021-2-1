{
 "cells": [
  {
   "cell_type": "code",
   "execution_count": 7,
   "id": "2a28c947",
   "metadata": {},
   "outputs": [
    {
     "name": "stdout",
     "output_type": "stream",
     "text": [
      "Enter the value of a: 8\n",
      "Output: 1, 3, 5, 7, 9, 11, 13, 15\n"
     ]
    }
   ],
   "source": [
    "x = int(input(\"Enter the value of a: \"))\n",
    "output = \", \".join([str(2*i - 1) for i in range(1, x+1)])\n",
    "print(\"Output:\", output)"
   ]
  },
  {
   "cell_type": "markdown",
   "id": "5e0573e9",
   "metadata": {},
   "source": []
  }
 ],
 "metadata": {
  "kernelspec": {
   "display_name": "Python 3 (ipykernel)",
   "language": "python",
   "name": "python3"
  },
  "language_info": {
   "codemirror_mode": {
    "name": "ipython",
    "version": 3
   },
   "file_extension": ".py",
   "mimetype": "text/x-python",
   "name": "python",
   "nbconvert_exporter": "python",
   "pygments_lexer": "ipython3",
   "version": "3.9.12"
  }
 },
 "nbformat": 4,
 "nbformat_minor": 5
}
